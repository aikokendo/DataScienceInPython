{
 "cells": [
  {
   "cell_type": "markdown",
   "metadata": {},
   "source": [
    "---\n",
    "\n",
    "_You are currently looking at **version 1.1** of this notebook. To download notebooks and datafiles, as well as get help on Jupyter notebooks in the Coursera platform, visit the [Jupyter Notebook FAQ](https://www.coursera.org/learn/python-data-analysis/resources/0dhYG) course resource._\n",
    "\n",
    "---"
   ]
  },
  {
   "cell_type": "code",
   "execution_count": 1,
   "metadata": {
    "collapsed": true
   },
   "outputs": [],
   "source": [
    "import pandas as pd\n",
    "import numpy as np\n",
    "from scipy.stats import ttest_ind"
   ]
  },
  {
   "cell_type": "markdown",
   "metadata": {},
   "source": [
    "# Assignment 4 - Hypothesis Testing\n",
    "This assignment requires more individual learning than previous assignments - you are encouraged to check out the [pandas documentation](http://pandas.pydata.org/pandas-docs/stable/) to find functions or methods you might not have used yet, or ask questions on [Stack Overflow](http://stackoverflow.com/) and tag them as pandas and python related. And of course, the discussion forums are open for interaction with your peers and the course staff.\n",
    "\n",
    "Definitions:\n",
    "* A _quarter_ is a specific three month period, Q1 is January through March, Q2 is April through June, Q3 is July through September, Q4 is October through December.\n",
    "* A _recession_ is defined as starting with two consecutive quarters of GDP decline, and ending with two consecutive quarters of GDP growth.\n",
    "* A _recession bottom_ is the quarter within a recession which had the lowest GDP.\n",
    "* A _university town_ is a city which has a high percentage of university students compared to the total population of the city.\n",
    "\n",
    "**Hypothesis**: University towns have their mean housing prices less effected by recessions. Run a t-test to compare the ratio of the mean price of houses in university towns the quarter before the recession starts compared to the recession bottom. (`price_ratio=quarter_before_recession/recession_bottom`)\n",
    "\n",
    "The following data files are available for this assignment:\n",
    "* From the [Zillow research data site](http://www.zillow.com/research/data/) there is housing data for the United States. In particular the datafile for [all homes at a city level](http://files.zillowstatic.com/research/public/City/City_Zhvi_AllHomes.csv), ```City_Zhvi_AllHomes.csv```, has median home sale prices at a fine grained level.\n",
    "* From the Wikipedia page on college towns is a list of [university towns in the United States](https://en.wikipedia.org/wiki/List_of_college_towns#College_towns_in_the_United_States) which has been copy and pasted into the file ```university_towns.txt```.\n",
    "* From Bureau of Economic Analysis, US Department of Commerce, the [GDP over time](http://www.bea.gov/national/index.htm#gdp) of the United States in current dollars (use the chained value in 2009 dollars), in quarterly intervals, in the file ```gdplev.xls```. For this assignment, only look at GDP data from the first quarter of 2000 onward.\n",
    "\n",
    "Each function in this assignment below is worth 10%, with the exception of ```run_ttest()```, which is worth 50%."
   ]
  },
  {
   "cell_type": "code",
   "execution_count": 2,
   "metadata": {
    "collapsed": false
   },
   "outputs": [],
   "source": [
    "# Use this dictionary to map state names to two letter acronyms\n",
    "states = {'OH': 'Ohio', 'KY': 'Kentucky', 'AS': 'American Samoa', 'NV': 'Nevada', 'WY': 'Wyoming', 'NA': 'National', 'AL': 'Alabama', 'MD': 'Maryland', 'AK': 'Alaska', 'UT': 'Utah', 'OR': 'Oregon', 'MT': 'Montana', 'IL': 'Illinois', 'TN': 'Tennessee', 'DC': 'District of Columbia', 'VT': 'Vermont', 'ID': 'Idaho', 'AR': 'Arkansas', 'ME': 'Maine', 'WA': 'Washington', 'HI': 'Hawaii', 'WI': 'Wisconsin', 'MI': 'Michigan', 'IN': 'Indiana', 'NJ': 'New Jersey', 'AZ': 'Arizona', 'GU': 'Guam', 'MS': 'Mississippi', 'PR': 'Puerto Rico', 'NC': 'North Carolina', 'TX': 'Texas', 'SD': 'South Dakota', 'MP': 'Northern Mariana Islands', 'IA': 'Iowa', 'MO': 'Missouri', 'CT': 'Connecticut', 'WV': 'West Virginia', 'SC': 'South Carolina', 'LA': 'Louisiana', 'KS': 'Kansas', 'NY': 'New York', 'NE': 'Nebraska', 'OK': 'Oklahoma', 'FL': 'Florida', 'CA': 'California', 'CO': 'Colorado', 'PA': 'Pennsylvania', 'DE': 'Delaware', 'NM': 'New Mexico', 'RI': 'Rhode Island', 'MN': 'Minnesota', 'VI': 'Virgin Islands', 'NH': 'New Hampshire', 'MA': 'Massachusetts', 'GA': 'Georgia', 'ND': 'North Dakota', 'VA': 'Virginia'}"
   ]
  },
  {
   "cell_type": "code",
   "execution_count": 171,
   "metadata": {
    "collapsed": false
   },
   "outputs": [
    {
     "data": {
      "text/html": [
       "<div>\n",
       "<style scoped>\n",
       "    .dataframe tbody tr th:only-of-type {\n",
       "        vertical-align: middle;\n",
       "    }\n",
       "\n",
       "    .dataframe tbody tr th {\n",
       "        vertical-align: top;\n",
       "    }\n",
       "\n",
       "    .dataframe thead th {\n",
       "        text-align: right;\n",
       "    }\n",
       "</style>\n",
       "<table border=\"1\" class=\"dataframe\">\n",
       "  <thead>\n",
       "    <tr style=\"text-align: right;\">\n",
       "      <th></th>\n",
       "      <th>State</th>\n",
       "      <th>RegionName</th>\n",
       "    </tr>\n",
       "  </thead>\n",
       "  <tbody>\n",
       "    <tr>\n",
       "      <th>0</th>\n",
       "      <td>Alabama</td>\n",
       "      <td>Auburn</td>\n",
       "    </tr>\n",
       "    <tr>\n",
       "      <th>1</th>\n",
       "      <td>Alabama</td>\n",
       "      <td>Florence</td>\n",
       "    </tr>\n",
       "    <tr>\n",
       "      <th>2</th>\n",
       "      <td>Alabama</td>\n",
       "      <td>Jacksonville</td>\n",
       "    </tr>\n",
       "    <tr>\n",
       "      <th>3</th>\n",
       "      <td>Alabama</td>\n",
       "      <td>Livingston</td>\n",
       "    </tr>\n",
       "    <tr>\n",
       "      <th>4</th>\n",
       "      <td>Alabama</td>\n",
       "      <td>Montevallo</td>\n",
       "    </tr>\n",
       "  </tbody>\n",
       "</table>\n",
       "</div>"
      ],
      "text/plain": [
       "     State    RegionName\n",
       "0  Alabama        Auburn\n",
       "1  Alabama      Florence\n",
       "2  Alabama  Jacksonville\n",
       "3  Alabama    Livingston\n",
       "4  Alabama    Montevallo"
      ]
     },
     "execution_count": 171,
     "metadata": {},
     "output_type": "execute_result"
    }
   ],
   "source": [
    "def get_list_of_university_towns():\n",
    "    '''Returns a DataFrame of towns and the states they are in from the \n",
    "    university_towns.txt list. The format of the DataFrame should be:\n",
    "    DataFrame( [ [\"Michigan\", \"Ann Arbor\"], [\"Michigan\", \"Yipsilanti\"] ], \n",
    "    columns=[\"State\", \"RegionName\"]  )\n",
    "    \n",
    "    The following cleaning needs to be done:\n",
    "\n",
    "    1. For \"State\", removing characters from \"[\" to the end.\n",
    "    2. For \"RegionName\", when applicable, removing every character from \" (\" to the end.\n",
    "    3. Depending on how you read the data, you may need to remove newline character '\\n'. '''\n",
    "    \n",
    "    state = \"\"\n",
    "    RegionName = \"\"\n",
    "    data = []\n",
    "    with open('university_towns.txt') as f:\n",
    "        content = f.readlines()\n",
    "    for line in content:\n",
    "        if \"[edit]\" in line:  # Starting new state\n",
    "            state = line.split(\"[\")[0]\n",
    "        else: # extract Region Name\n",
    "            RegionName = line.split(\"(\")[0].strip()\n",
    "            data.append([state,RegionName])\n",
    "        \n",
    "    result = pd.DataFrame(data) \n",
    "    result.columns = ['State','RegionName']\n",
    "    return result\n",
    "   \n",
    "\n",
    "get_list_of_university_towns().head()"
   ]
  },
  {
   "cell_type": "code",
   "execution_count": 420,
   "metadata": {
    "collapsed": true
   },
   "outputs": [],
   "source": [
    "#     A recession is defined as starting with two consecutive quarters of GDP decline, \n",
    "#     and ending with two consecutive quarters of GDP growth.\n",
    "\n",
    "def find_recession(ds):\n",
    "    prevGDP = 0\n",
    "    QtBeforeRecession = ''\n",
    "    RecessionStartQt = ''\n",
    "    RecessionBottomQt = ''\n",
    "    lowestGDP = -1\n",
    "    decline = 0\n",
    "    growths = 0\n",
    "    for iter_index,row in ds.iterrows():\n",
    "        if prevGDP < row['GDP']:\n",
    "            if (decline >= 2): # we are going up while in a recession!\n",
    "                if growth == 0: # starting to grow\n",
    "                    growth = 1\n",
    "                else: #we are out of recession, two consecutive growths\n",
    "                    return [RecessionStartQt,RecessionBottomQt,row['Quarter']]\n",
    "            else:   # recession hasnt started so we reset\n",
    "                decline = 0\n",
    "                growth = 0\n",
    "                RecessionStartQt = ''\n",
    "                RecessionBottomQt = ''\n",
    "                lowestGDP = -1\n",
    "        else: # recession time?\n",
    "            if decline == 0: #first decline lets save it\n",
    "                RecessionStartQt = row['Quarter']\n",
    "                lowestGDP = row['GDP']\n",
    "                RecessionBottomQt = RecessionStartQt\n",
    "            else: \n",
    "                if lowestGDP > row['GDP']:\n",
    "                    lowestGDP = row['GDP']\n",
    "                    RecessionBottomQt = row['Quarter']\n",
    "            decline += 1\n",
    "            growth = 0\n",
    "        prevGDP = row['GDP']\n",
    "    return ['','',''] # in case no recession was found\n",
    "        "
   ]
  },
  {
   "cell_type": "code",
   "execution_count": 436,
   "metadata": {
    "collapsed": false
   },
   "outputs": [
    {
     "data": {
      "text/plain": [
       "'2008q3'"
      ]
     },
     "execution_count": 436,
     "metadata": {},
     "output_type": "execute_result"
    }
   ],
   "source": [
    "# %%time\n",
    "\n",
    "def get_recession_start():\n",
    "    '''Returns the year and quarter of the recession start time as a \n",
    "    string value in a format such as 2005q3'''\n",
    "    # using 2009 dollars and 2000 forward\n",
    "    gdp = pd.read_excel('gdplev.xls',skiprows=219,usecols=[4,6],names=[\"Quarter\",\"GDP\"])\n",
    "    return find_recession(gdp)[0]\n",
    "\n",
    "get_recession_start()\n",
    "\n"
   ]
  },
  {
   "cell_type": "code",
   "execution_count": 368,
   "metadata": {
    "collapsed": false
   },
   "outputs": [
    {
     "data": {
      "text/plain": [
       "'2009q4'"
      ]
     },
     "execution_count": 368,
     "metadata": {},
     "output_type": "execute_result"
    }
   ],
   "source": [
    "def get_recession_end():\n",
    "    '''Returns the year and quarter of the recession end time as a \n",
    "    string value in a format such as 2005q3'''\n",
    "    gdp = pd.read_excel('gdplev.xls',skiprows=219,usecols=[4,6],names=[\"Quarter\",\"GDP\"])\n",
    "    return find_recession(gdp)[2]\n",
    "\n",
    "get_recession_end()"
   ]
  },
  {
   "cell_type": "code",
   "execution_count": 369,
   "metadata": {
    "collapsed": false
   },
   "outputs": [
    {
     "data": {
      "text/plain": [
       "'2009q2'"
      ]
     },
     "execution_count": 369,
     "metadata": {},
     "output_type": "execute_result"
    }
   ],
   "source": [
    "def get_recession_bottom():\n",
    "    '''Returns the year and quarter of the recession bottom time as a \n",
    "    string value in a format such as 2005q3'''\n",
    "    gdp = pd.read_excel('gdplev.xls',skiprows=219,usecols=[4,6],names=[\"Quarter\",\"GDP\"])\n",
    "    return find_recession(gdp)[1]\n",
    "    \n",
    "get_recession_bottom()"
   ]
  },
  {
   "cell_type": "code",
   "execution_count": 370,
   "metadata": {
    "collapsed": false
   },
   "outputs": [
    {
     "data": {
      "text/plain": [
       "(10730, 67)"
      ]
     },
     "execution_count": 370,
     "metadata": {},
     "output_type": "execute_result"
    }
   ],
   "source": [
    "def convert_housing_data_to_quarters():\n",
    "    '''Converts the housing data to quarters and returns it as mean \n",
    "    values in a dataframe. This dataframe should be a dataframe with\n",
    "    columns for 2000q1 through 2016q3, and should have a multi-index\n",
    "    in the shape of [\"State\",\"RegionName\"].\n",
    "    \n",
    "    Note: Quarters are defined in the assignment description, they are\n",
    "    not arbitrary three month periods.\n",
    "    \n",
    "    The resulting dataframe should have 67 columns, and 10,730 rows.\n",
    "    '''\n",
    "    \n",
    "    housing = pd.read_csv(\"City_Zhvi_AllHomes.csv\")\n",
    "    # concat since group by cant handle multiple non unique index\n",
    "    housing['State'] = housing['State'].apply(lambda x: states[x] + \"-\") + housing['RegionName'] \n",
    "    housing = housing.drop(['RegionID', 'Metro','CountyName','SizeRank','RegionName'], axis=1)\n",
    "    housing = housing.set_index(['State'])\n",
    "    #Transpose to set rows in terms of quarters\n",
    "    housing = housing.T\n",
    "    housing['Quarter'] = housing.apply(get_Quarter,axis=1)\n",
    "    housing  = housing.groupby(['Quarter']).mean()\n",
    "    housing = housing[housing.index >= '2000q1']\n",
    "    #Transpose to go back to our original index: State and RegionName\n",
    "    housing = housing.T\n",
    "    housing = housing.reset_index()\n",
    "    housing['RegionName'] = housing['State'].apply(lambda x: x.split(\"-\")[1])\n",
    "    housing['State'] = housing['State'].apply(lambda x: x.split(\"-\")[0])\n",
    "    housing = housing.set_index(['State','RegionName'])\n",
    "    return housing\n",
    "\n",
    "\n",
    "def get_Quarter(row):\n",
    "    if \"-\" not in row.name:\n",
    "        return row.name\n",
    "    else:\n",
    "        qts = {'01':'q1','02':'q1','03':'q1',\n",
    "               '04':'q2','05':'q2','06':'q2',\n",
    "               '07':'q3','08':'q3','09':'q3',\n",
    "               '10':'q4','11':'q4','12':'q4'}\n",
    "        result = row.name.split(\"-\")\n",
    "        return result[0] + qts[result[1]]\n",
    "        \n",
    "    \n",
    "convert_housing_data_to_quarters().shape\n",
    "# 10730 rows × 67 columns"
   ]
  },
  {
   "cell_type": "code",
   "execution_count": 501,
   "metadata": {
    "collapsed": false
   },
   "outputs": [
    {
     "data": {
      "text/plain": [
       "[True, 0.0030867070793210018, 'university town']"
      ]
     },
     "execution_count": 501,
     "metadata": {},
     "output_type": "execute_result"
    }
   ],
   "source": [
    "def run_ttest():\n",
    "    '''First creates new data showing the decline or growth of housing prices\n",
    "    between the recession start and the recession bottom. Then runs a ttest\n",
    "    comparing the university town values to the non-university towns values, \n",
    "    return whether the alternative hypothesis (that the two groups are the same)\n",
    "    is true or not as well as the p-value of the confidence. \n",
    "    \n",
    "    Return the tuple (different, p, better) where different=True if the t-test is\n",
    "    True at a p<0.01 (we reject the null hypothesis), or different=False if \n",
    "    otherwise (we cannot reject the null hypothesis). The variable p should\n",
    "    be equal to the exact p value returned from scipy.stats.ttest_ind(). The\n",
    "    value for better should be either \"university town\" or \"non-university town\"\n",
    "    depending on which has a lower mean price ratio (which is equivilent to a\n",
    "    reduced market loss).'''\n",
    "    \n",
    "    housing_qt = convert_housing_data_to_quarters()\n",
    "    # get qt before recession start and recession bottom\n",
    "    qt_before_rec = get_prev_quarter(get_recession_start())\n",
    "    qt_rec_bottom = get_recession_bottom()    \n",
    "    \n",
    "    #calculate price ratio\n",
    "    #price_ratio=quarter_before_recession/recession_bottom\n",
    "    housing_qt[\"price_ratio\"] = housing_qt[qt_before_rec]/housing_qt[qt_rec_bottom]\n",
    "    housing_qt = housing_qt[['price_ratio']].dropna()\n",
    "    \n",
    "#     # create two df, uni_town_vals and n_uni_town_vals\n",
    "    uni_towns = get_list_of_university_towns()\n",
    "    housing_qt = housing_qt.merge(uni_towns,left_index=True, right_on=['State','RegionName'],indicator=True, how='left')\n",
    "    uni_town_vals = housing_qt[housing_qt['_merge']=='both'].drop('_merge',axis=1).dropna()\n",
    "    n_uni_town_vals = housing_qt[housing_qt['_merge']=='left_only'].drop('_merge',axis=1).dropna()\n",
    "    \n",
    "#     Hypothesis: University towns have their mean housing prices less effected by recessions.\n",
    "#     null hypothesis: University towns and not university towns are affected equally during recession\n",
    "   \n",
    "    # t test tells you how significant the differences between groups are; \n",
    "    # In other words it lets you know if those differences (measured in means/averages) could have happened by chance.\n",
    "    # Hi T shows how different two datasets are, P shows the probability that the result was due to chance\n",
    "    ttest = ttest_ind(uni_town_vals['price_ratio'], n_uni_town_vals['price_ratio'])\n",
    "    different = False\n",
    "    better = 'university town'\n",
    "    if ttest[1] < 0.01:\n",
    "        #null hypothesis rejected\n",
    "        #  small p-value (typically ≤ 0.05) indicates strong evidence against the null hypothesis, \n",
    "        # so you reject the null hypothesis.\n",
    "        \n",
    "        # A large p-value (> 0.05) indicates weak evidence against the null hypothesis, \n",
    "        # so it would fail to reject the null hypothesis.\n",
    "        different = True\n",
    "\n",
    "    if ttest[0] > 0:  # a positive T value: mean of n_uni_towns is smaller than uni_towns\n",
    "        better = 'non-university town'\n",
    "\n",
    "    return [different, ttest[1], better]\n",
    "        \n",
    "\n",
    "def get_prev_quarter(cur_qt): \n",
    "    qts = cur_qt.split(\"q\")\n",
    "    year = cur_qt[0]\n",
    "    qt = cur_qt[1]\n",
    "    \n",
    "    if qts[1] == '1':\n",
    "        return str(int(qts[0])-1) + 'q4'\n",
    "    else:\n",
    "        return qts[0] + 'q' + str(int(qts[1])-1)\n",
    "    \n",
    "\n",
    "run_ttest()\n"
   ]
  }
 ],
 "metadata": {
  "coursera": {
   "course_slug": "python-data-analysis",
   "graded_item_id": "Il9Fx",
   "launcher_item_id": "TeDW0",
   "part_id": "WGlun"
  },
  "kernelspec": {
   "display_name": "Python [default]",
   "language": "python",
   "name": "python3"
  },
  "language_info": {
   "codemirror_mode": {
    "name": "ipython",
    "version": 3
   },
   "file_extension": ".py",
   "mimetype": "text/x-python",
   "name": "python",
   "nbconvert_exporter": "python",
   "pygments_lexer": "ipython3",
   "version": "3.5.2"
  }
 },
 "nbformat": 4,
 "nbformat_minor": 0
}
